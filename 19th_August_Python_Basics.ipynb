{
 "cells": [
  {
   "cell_type": "code",
   "execution_count": 1,
   "id": "26c4857c-59fd-48e4-baea-d3abc31bf592",
   "metadata": {},
   "outputs": [
    {
     "name": "stdout",
     "output_type": "stream",
     "text": [
      "Value of x before swapping 10\n",
      "Value of y before swapping 20\n",
      "Value of x after swapping 20\n",
      "Value of y after swapping 10\n"
     ]
    }
   ],
   "source": [
    "#1. Declare two variables, `x` and `y`, and assign them integer values. Swap thevalues of these variables without using any temporary variable.\n",
    "x=10  #declar intially values of x\n",
    "y=20  #declar intially values of x\n",
    "\n",
    "print(\"Value of x before swapping\",x)\n",
    "print(\"Value of y before swapping\",y)\n",
    "x,y=y,x           #swappping logic without using third variable\n",
    "print(\"Value of x after swapping\",x)\n",
    "print(\"Value of y after swapping\",y)"
   ]
  },
  {
   "cell_type": "code",
   "execution_count": 3,
   "id": "173ada33-5144-4574-a725-6c1d6739b335",
   "metadata": {},
   "outputs": [
    {
     "name": "stdin",
     "output_type": "stream",
     "text": [
      "Enter length 4\n",
      "Enter width 6\n"
     ]
    },
    {
     "name": "stdout",
     "output_type": "stream",
     "text": [
      "Area of rectangle is: 24.0\n"
     ]
    }
   ],
   "source": [
    "#2. Create a program that calculates the area of a rectangle. Take the length andwidth as inputs from the user and store them in variables. Calculate anddisplay the area.\n",
    "lenght=float(input(\"Enter length\"))  #taking value from user\n",
    "width=float(input(\"Enter width\"))    #taking value from user\n",
    "\n",
    "result=lenght*width     #formula for calculating area of rectangle\n",
    "\n",
    "print(\"Area of rectangle is:\",result)"
   ]
  },
  {
   "cell_type": "code",
   "execution_count": 4,
   "id": "3e927c7c-00ef-43a7-a07a-e9ec1297c605",
   "metadata": {},
   "outputs": [
    {
     "name": "stdin",
     "output_type": "stream",
     "text": [
      "Enter temperature 45\n"
     ]
    },
    {
     "name": "stdout",
     "output_type": "stream",
     "text": [
      "Temperature is: 113.0\n"
     ]
    }
   ],
   "source": [
    "#3. Write a Python program that converts temperatures from Celsius to Fahrenheit. Take the temperature in Celsius as input, store it in a variable,convert it to Fahrenheit, and display the result\n",
    "\n",
    "celsius=int(input(\"Enter temperature\"))\n",
    "fahrenheit=(9/5*celsius)+(32)    #formula\n",
    "print(\"Temperature is:\",fahrenheit)"
   ]
  },
  {
   "cell_type": "code",
   "execution_count": 6,
   "id": "ed20d62a-b44e-4840-98d9-b0fb3768fe7a",
   "metadata": {},
   "outputs": [
    {
     "name": "stdin",
     "output_type": "stream",
     "text": [
      "Enter any string atharv chavan\n"
     ]
    },
    {
     "name": "stdout",
     "output_type": "stream",
     "text": [
      "Length of string is: 13\n"
     ]
    }
   ],
   "source": [
    "#TOPIC: String Based Questions\n",
    "#1. Write a Python program that takes a string as input and prints the length of the string.\n",
    "string=input(\"Enter any string\")\n",
    "string1=len(string)\n",
    "print(\"Length of string is:\",string1)"
   ]
  },
  {
   "cell_type": "code",
   "execution_count": 8,
   "id": "e76801d7-413c-4173-9f90-c1c3da65ad00",
   "metadata": {},
   "outputs": [
    {
     "name": "stdin",
     "output_type": "stream",
     "text": [
      "Enter any sentence dsc\n"
     ]
    },
    {
     "name": "stdout",
     "output_type": "stream",
     "text": [
      "0\n"
     ]
    }
   ],
   "source": [
    "#2. Create a program that takes a sentence from the user and counts the numberof vowels (a, e, i, o, u) in the string.\n",
    "string=input(\"Enter any sentence\")\n",
    "m=['a','e','i','o','u']\n",
    "count=0\n",
    "for i in string:\n",
    "   if i in m:\n",
    "      count=count+1\n",
    "print(count)"
   ]
  },
  {
   "cell_type": "code",
   "execution_count": 10,
   "id": "e9077229-a3ec-44f8-b578-dc240a1365a1",
   "metadata": {},
   "outputs": [
    {
     "name": "stdin",
     "output_type": "stream",
     "text": [
      "Enter any sentence atharv chavan\n"
     ]
    },
    {
     "name": "stdout",
     "output_type": "stream",
     "text": [
      "Reverse string is navahc vrahta\n"
     ]
    }
   ],
   "source": [
    "#3. Given a string, reverse the order of characters using string slicing and printthe reversed string.\n",
    "\n",
    "string=input(\"Enter any sentence\")\n",
    "string1=string[::-1]\n",
    "print(\"Reverse string is\",string1)"
   ]
  },
  {
   "cell_type": "code",
   "execution_count": 13,
   "id": "66fe9a83-3291-4840-a98a-c9a8896db5b3",
   "metadata": {},
   "outputs": [
    {
     "name": "stdin",
     "output_type": "stream",
     "text": [
      "Enter any sentence atharv\n"
     ]
    },
    {
     "name": "stdout",
     "output_type": "stream",
     "text": [
      "atharv String is not pallindrome\n"
     ]
    }
   ],
   "source": [
    "#4. Write a program that takes a string as input and checks if it is a palindrome(reads the same forwards and backwards).\n",
    "\n",
    "string=input(\"Enter any sentence\")\n",
    "string1=string\n",
    "string2=string[::-1]\n",
    "if string1==string2:\n",
    "   print(string,\"String is pallindrome\")\n",
    "else:\n",
    "   print(string,\"String is not pallindrome\")\n"
   ]
  },
  {
   "cell_type": "code",
   "execution_count": 15,
   "id": "1c78a9bf-c237-47cb-979c-319f6d73051f",
   "metadata": {},
   "outputs": [
    {
     "name": "stdin",
     "output_type": "stream",
     "text": [
      "Enter any sentence a b cd\n"
     ]
    },
    {
     "name": "stdout",
     "output_type": "stream",
     "text": [
      "abcd\n"
     ]
    }
   ],
   "source": [
    "#5. Create a program that takes a string as input and removes all the spaces fromit. Print the modified string without spaces.\n",
    "\n",
    "string=input(\"Enter any sentence\")\n",
    "string1=string.replace(\" \",\"\")\n",
    "print(string1)"
   ]
  },
  {
   "cell_type": "code",
   "execution_count": null,
   "id": "a282487f-9e0e-40ce-8fbe-e03b5a2f01c3",
   "metadata": {},
   "outputs": [],
   "source": []
  }
 ],
 "metadata": {
  "kernelspec": {
   "display_name": "Python 3 (ipykernel)",
   "language": "python",
   "name": "python3"
  },
  "language_info": {
   "codemirror_mode": {
    "name": "ipython",
    "version": 3
   },
   "file_extension": ".py",
   "mimetype": "text/x-python",
   "name": "python",
   "nbconvert_exporter": "python",
   "pygments_lexer": "ipython3",
   "version": "3.10.8"
  }
 },
 "nbformat": 4,
 "nbformat_minor": 5
}
